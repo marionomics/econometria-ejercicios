{
 "cells": [
  {
   "cell_type": "code",
   "execution_count": 34,
   "metadata": {},
   "outputs": [],
   "source": [
    "import pandas as pd\n",
    "import numpy as np\n",
    "\n",
    "np.random.seed()\n"
   ]
  },
  {
   "cell_type": "code",
   "execution_count": 41,
   "metadata": {},
   "outputs": [
    {
     "data": {
      "text/html": [
       "<div>\n",
       "<style scoped>\n",
       "    .dataframe tbody tr th:only-of-type {\n",
       "        vertical-align: middle;\n",
       "    }\n",
       "\n",
       "    .dataframe tbody tr th {\n",
       "        vertical-align: top;\n",
       "    }\n",
       "\n",
       "    .dataframe thead th {\n",
       "        text-align: right;\n",
       "    }\n",
       "</style>\n",
       "<table border=\"1\" class=\"dataframe\">\n",
       "  <thead>\n",
       "    <tr style=\"text-align: right;\">\n",
       "      <th></th>\n",
       "      <th>d</th>\n",
       "      <th>y_0</th>\n",
       "      <th>y_1</th>\n",
       "      <th>y</th>\n",
       "    </tr>\n",
       "  </thead>\n",
       "  <tbody>\n",
       "    <tr>\n",
       "      <th>0</th>\n",
       "      <td>1</td>\n",
       "      <td>0.931360</td>\n",
       "      <td>2.613816</td>\n",
       "      <td>2.613816</td>\n",
       "    </tr>\n",
       "    <tr>\n",
       "      <th>1</th>\n",
       "      <td>0</td>\n",
       "      <td>1.014322</td>\n",
       "      <td>1.722755</td>\n",
       "      <td>1.014322</td>\n",
       "    </tr>\n",
       "    <tr>\n",
       "      <th>2</th>\n",
       "      <td>0</td>\n",
       "      <td>0.932888</td>\n",
       "      <td>2.477828</td>\n",
       "      <td>0.932888</td>\n",
       "    </tr>\n",
       "    <tr>\n",
       "      <th>3</th>\n",
       "      <td>0</td>\n",
       "      <td>0.874144</td>\n",
       "      <td>2.204005</td>\n",
       "      <td>0.874144</td>\n",
       "    </tr>\n",
       "    <tr>\n",
       "      <th>4</th>\n",
       "      <td>1</td>\n",
       "      <td>-0.186067</td>\n",
       "      <td>2.293268</td>\n",
       "      <td>2.293268</td>\n",
       "    </tr>\n",
       "    <tr>\n",
       "      <th>...</th>\n",
       "      <td>...</td>\n",
       "      <td>...</td>\n",
       "      <td>...</td>\n",
       "      <td>...</td>\n",
       "    </tr>\n",
       "    <tr>\n",
       "      <th>1995</th>\n",
       "      <td>0</td>\n",
       "      <td>0.540793</td>\n",
       "      <td>2.418244</td>\n",
       "      <td>0.540793</td>\n",
       "    </tr>\n",
       "    <tr>\n",
       "      <th>1996</th>\n",
       "      <td>0</td>\n",
       "      <td>0.429558</td>\n",
       "      <td>1.779841</td>\n",
       "      <td>0.429558</td>\n",
       "    </tr>\n",
       "    <tr>\n",
       "      <th>1997</th>\n",
       "      <td>1</td>\n",
       "      <td>1.488144</td>\n",
       "      <td>1.298651</td>\n",
       "      <td>1.298651</td>\n",
       "    </tr>\n",
       "    <tr>\n",
       "      <th>1998</th>\n",
       "      <td>0</td>\n",
       "      <td>1.122445</td>\n",
       "      <td>1.797615</td>\n",
       "      <td>1.122445</td>\n",
       "    </tr>\n",
       "    <tr>\n",
       "      <th>1999</th>\n",
       "      <td>0</td>\n",
       "      <td>0.785827</td>\n",
       "      <td>1.157067</td>\n",
       "      <td>0.785827</td>\n",
       "    </tr>\n",
       "  </tbody>\n",
       "</table>\n",
       "<p>2000 rows × 4 columns</p>\n",
       "</div>"
      ],
      "text/plain": [
       "      d       y_0       y_1         y\n",
       "0     1  0.931360  2.613816  2.613816\n",
       "1     0  1.014322  1.722755  1.014322\n",
       "2     0  0.932888  2.477828  0.932888\n",
       "3     0  0.874144  2.204005  0.874144\n",
       "4     1 -0.186067  2.293268  2.293268\n",
       "...  ..       ...       ...       ...\n",
       "1995  0  0.540793  2.418244  0.540793\n",
       "1996  0  0.429558  1.779841  0.429558\n",
       "1997  1  1.488144  1.298651  1.298651\n",
       "1998  0  1.122445  1.797615  1.122445\n",
       "1999  0  0.785827  1.157067  0.785827\n",
       "\n",
       "[2000 rows x 4 columns]"
      ]
     },
     "execution_count": 41,
     "metadata": {},
     "output_type": "execute_result"
    }
   ],
   "source": [
    "n = 2000\n",
    "d = [np.random.randint(0,2) for i in range(n)] # Genera dummies con valor 1 y 0\n",
    "y_0 = [1 + 0 + np.random.normal(0,0.5,1)[0] for i in range(n)]\n",
    "y_1 = [1 + 1 + np.random.normal(0,0.5,1)[0] for i in range(n)]\n",
    "\n",
    "\n",
    "# Crea la base de datos con los valores que tendrían los datos en cada caso.\n",
    "df = pd.DataFrame({'d': d, \n",
    "                'y_0': y_0,\n",
    "                'y_1': y_1})\n",
    "\n",
    "\n",
    "df['y'] = np.where(df['d'] == 1, df['y_1'], df['y_0'])\n",
    "df"
   ]
  },
  {
   "cell_type": "markdown",
   "metadata": {},
   "source": [
    "Cuando hacemos una estimación de diferencia de medias, nos queda un espacio de sesgo de selección\n",
    "\\begin{equation}\n",
    "E(Y_i | D_i = 1) - E(Y_i | D_i = 0)\n",
    "\\end{equation}"
   ]
  },
  {
   "cell_type": "code",
   "execution_count": 45,
   "metadata": {},
   "outputs": [
    {
     "data": {
      "text/plain": [
       "0.9968951587873431"
      ]
     },
     "execution_count": 45,
     "metadata": {},
     "output_type": "execute_result"
    }
   ],
   "source": [
    "df[df['d'] == 1]['y'].mean() - df[df['d'] == 0]['y'].mean()"
   ]
  },
  {
   "cell_type": "markdown",
   "metadata": {},
   "source": [
    "El resultado es diferente que una diferencia de contrafactuales. Es decir, ¿Cuál sería la diferencia si pudiéramos observar el efecto cuando $D_i = 1$ y $D_i = 0$ en la misma persona $i$? Esta diferencia la representamos con \n",
    "\\begin{equation}\n",
    "E(Y_{1i} | D_i = 1) - E(Y_{1i} | D_i = 0)\n",
    "\\end{equation}"
   ]
  },
  {
   "cell_type": "code",
   "execution_count": 47,
   "metadata": {},
   "outputs": [
    {
     "data": {
      "text/plain": [
       "0.9895018802546778"
      ]
     },
     "execution_count": 47,
     "metadata": {},
     "output_type": "execute_result"
    }
   ],
   "source": [
    "(df['y_1']-df['y_0']).mean()"
   ]
  },
  {
   "cell_type": "code",
   "execution_count": null,
   "metadata": {},
   "outputs": [],
   "source": []
  }
 ],
 "metadata": {
  "kernelspec": {
   "display_name": "Python 3.9.7 64-bit",
   "language": "python",
   "name": "python3"
  },
  "language_info": {
   "codemirror_mode": {
    "name": "ipython",
    "version": 3
   },
   "file_extension": ".py",
   "mimetype": "text/x-python",
   "name": "python",
   "nbconvert_exporter": "python",
   "pygments_lexer": "ipython3",
   "version": "3.9.7"
  },
  "orig_nbformat": 4,
  "vscode": {
   "interpreter": {
    "hash": "aee8b7b246df8f9039afb4144a1f6fd8d2ca17a180786b69acc140d282b71a49"
   }
  }
 },
 "nbformat": 4,
 "nbformat_minor": 2
}
