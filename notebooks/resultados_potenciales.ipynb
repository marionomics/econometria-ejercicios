{
 "cells": [
  {
   "cell_type": "code",
   "execution_count": 34,
   "metadata": {},
   "outputs": [],
   "source": [
    "import pandas as pd\n",
    "import numpy as np\n",
    "\n",
    "np.random.seed()\n"
   ]
  },
  {
   "cell_type": "code",
   "execution_count": 50,
   "metadata": {},
   "outputs": [
    {
     "data": {
      "text/html": [
       "<div>\n",
       "<style scoped>\n",
       "    .dataframe tbody tr th:only-of-type {\n",
       "        vertical-align: middle;\n",
       "    }\n",
       "\n",
       "    .dataframe tbody tr th {\n",
       "        vertical-align: top;\n",
       "    }\n",
       "\n",
       "    .dataframe thead th {\n",
       "        text-align: right;\n",
       "    }\n",
       "</style>\n",
       "<table border=\"1\" class=\"dataframe\">\n",
       "  <thead>\n",
       "    <tr style=\"text-align: right;\">\n",
       "      <th></th>\n",
       "      <th>d</th>\n",
       "      <th>y_0</th>\n",
       "      <th>y_1</th>\n",
       "      <th>y</th>\n",
       "    </tr>\n",
       "  </thead>\n",
       "  <tbody>\n",
       "    <tr>\n",
       "      <th>0</th>\n",
       "      <td>1</td>\n",
       "      <td>1.051024</td>\n",
       "      <td>1.790892</td>\n",
       "      <td>1.790892</td>\n",
       "    </tr>\n",
       "    <tr>\n",
       "      <th>1</th>\n",
       "      <td>0</td>\n",
       "      <td>0.568279</td>\n",
       "      <td>2.496533</td>\n",
       "      <td>0.568279</td>\n",
       "    </tr>\n",
       "    <tr>\n",
       "      <th>2</th>\n",
       "      <td>1</td>\n",
       "      <td>0.417450</td>\n",
       "      <td>2.266626</td>\n",
       "      <td>2.266626</td>\n",
       "    </tr>\n",
       "    <tr>\n",
       "      <th>3</th>\n",
       "      <td>0</td>\n",
       "      <td>0.934301</td>\n",
       "      <td>1.903171</td>\n",
       "      <td>0.934301</td>\n",
       "    </tr>\n",
       "    <tr>\n",
       "      <th>4</th>\n",
       "      <td>0</td>\n",
       "      <td>1.378153</td>\n",
       "      <td>1.819349</td>\n",
       "      <td>1.378153</td>\n",
       "    </tr>\n",
       "    <tr>\n",
       "      <th>...</th>\n",
       "      <td>...</td>\n",
       "      <td>...</td>\n",
       "      <td>...</td>\n",
       "      <td>...</td>\n",
       "    </tr>\n",
       "    <tr>\n",
       "      <th>1995</th>\n",
       "      <td>0</td>\n",
       "      <td>1.494016</td>\n",
       "      <td>2.040761</td>\n",
       "      <td>1.494016</td>\n",
       "    </tr>\n",
       "    <tr>\n",
       "      <th>1996</th>\n",
       "      <td>0</td>\n",
       "      <td>2.698172</td>\n",
       "      <td>1.892675</td>\n",
       "      <td>2.698172</td>\n",
       "    </tr>\n",
       "    <tr>\n",
       "      <th>1997</th>\n",
       "      <td>1</td>\n",
       "      <td>0.859832</td>\n",
       "      <td>3.007408</td>\n",
       "      <td>3.007408</td>\n",
       "    </tr>\n",
       "    <tr>\n",
       "      <th>1998</th>\n",
       "      <td>1</td>\n",
       "      <td>1.025239</td>\n",
       "      <td>2.643208</td>\n",
       "      <td>2.643208</td>\n",
       "    </tr>\n",
       "    <tr>\n",
       "      <th>1999</th>\n",
       "      <td>1</td>\n",
       "      <td>1.362006</td>\n",
       "      <td>1.375623</td>\n",
       "      <td>1.375623</td>\n",
       "    </tr>\n",
       "  </tbody>\n",
       "</table>\n",
       "<p>2000 rows × 4 columns</p>\n",
       "</div>"
      ],
      "text/plain": [
       "      d       y_0       y_1         y\n",
       "0     1  1.051024  1.790892  1.790892\n",
       "1     0  0.568279  2.496533  0.568279\n",
       "2     1  0.417450  2.266626  2.266626\n",
       "3     0  0.934301  1.903171  0.934301\n",
       "4     0  1.378153  1.819349  1.378153\n",
       "...  ..       ...       ...       ...\n",
       "1995  0  1.494016  2.040761  1.494016\n",
       "1996  0  2.698172  1.892675  2.698172\n",
       "1997  1  0.859832  3.007408  3.007408\n",
       "1998  1  1.025239  2.643208  2.643208\n",
       "1999  1  1.362006  1.375623  1.375623\n",
       "\n",
       "[2000 rows x 4 columns]"
      ]
     },
     "execution_count": 50,
     "metadata": {},
     "output_type": "execute_result"
    }
   ],
   "source": [
    "n = 2000\n",
    "d = [np.random.randint(0,2) for i in range(n)] # Genera dummies con valor 1 y 0\n",
    "y_0 = [1 + 0 + np.random.normal(0,0.5,1)[0] for i in range(n)]\n",
    "y_1 = [1 + 1 + np.random.normal(0,0.5,1)[0] for i in range(n)]\n",
    "\n",
    "\n",
    "# Crea la base de datos con los valores que tendrían los datos en cada caso.\n",
    "df = pd.DataFrame({'d': d, \n",
    "                'y_0': y_0,\n",
    "                'y_1': y_1})\n",
    "\n",
    "\n",
    "df['y'] = np.where(df['d'] == 1, df['y_1'], df['y_0'])\n",
    "df"
   ]
  },
  {
   "cell_type": "markdown",
   "metadata": {},
   "source": [
    "Cuando hacemos una estimación de diferencia de medias, nos queda un espacio de sesgo de selección\n",
    "\\begin{equation}\n",
    "E(Y_i | D_i = 1) - E(Y_i | D_i = 0)\n",
    "\\end{equation}"
   ]
  },
  {
   "cell_type": "code",
   "execution_count": 51,
   "metadata": {},
   "outputs": [
    {
     "data": {
      "text/plain": [
       "1.002241352060223"
      ]
     },
     "execution_count": 51,
     "metadata": {},
     "output_type": "execute_result"
    }
   ],
   "source": [
    "df[df['d'] == 1]['y'].mean() - df[df['d'] == 0]['y'].mean()"
   ]
  },
  {
   "cell_type": "markdown",
   "metadata": {},
   "source": [
    "El resultado puede ser diferente que una diferencia de contrafactuales. Es decir, ¿Cuál sería la diferencia si pudiéramos observar el efecto cuando $D_i = 1$ y $D_i = 0$ en la misma persona $i$? Esta diferencia la representamos con \n",
    "\\begin{equation}\n",
    "E(Y_{1i} | D_i = 1) - E(Y_{1i} | D_i = 0)\n",
    "\\end{equation}"
   ]
  },
  {
   "cell_type": "code",
   "execution_count": 52,
   "metadata": {},
   "outputs": [
    {
     "data": {
      "text/plain": [
       "1.0251730822968126"
      ]
     },
     "execution_count": 52,
     "metadata": {},
     "output_type": "execute_result"
    }
   ],
   "source": [
    "(df['y_1']-df['y_0']).mean()"
   ]
  },
  {
   "cell_type": "markdown",
   "metadata": {},
   "source": [
    "En este caso no existe casi diferencia. La razón es que hay una selección aleatoria que hace que\n",
    "\\begin{equation}\n",
    "E(Y_{1i} | D_i = 1) - E(Y_{0i} | D_i = 1)\n",
    "\\end{equation}\n",
    "Pero imagina que no fuera así, que hubiera una variable que estuviera afectando al valor de $Y_i$. Entonces tendríamos un problema de _selección_.\n",
    "\n",
    "## Media Condicional\n",
    "La media condicional divide el valor de la media en función del valor de otra variable. Por ejemplo,\n",
    "\n",
    "$$\n",
    "E[Y_i|D_i=1]\n",
    "$$\n",
    "\n",
    "describe el valor promedio de $Y_i$ sólo en aquellos casos en los que $D_i$ es igual a $1$.\n",
    "\n",
    "Veamos un ejemplo en python generando una base de datos simple en pandas con números aleatorios."
   ]
  },
  {
   "cell_type": "code",
   "execution_count": 32,
   "metadata": {},
   "outputs": [
    {
     "data": {
      "text/html": [
       "<div>\n",
       "<style scoped>\n",
       "    .dataframe tbody tr th:only-of-type {\n",
       "        vertical-align: middle;\n",
       "    }\n",
       "\n",
       "    .dataframe tbody tr th {\n",
       "        vertical-align: top;\n",
       "    }\n",
       "\n",
       "    .dataframe thead th {\n",
       "        text-align: right;\n",
       "    }\n",
       "</style>\n",
       "<table border=\"1\" class=\"dataframe\">\n",
       "  <thead>\n",
       "    <tr style=\"text-align: right;\">\n",
       "      <th></th>\n",
       "      <th>d</th>\n",
       "      <th>y</th>\n",
       "    </tr>\n",
       "  </thead>\n",
       "  <tbody>\n",
       "    <tr>\n",
       "      <th>0</th>\n",
       "      <td>1</td>\n",
       "      <td>1.812209</td>\n",
       "    </tr>\n",
       "    <tr>\n",
       "      <th>1</th>\n",
       "      <td>1</td>\n",
       "      <td>3.614428</td>\n",
       "    </tr>\n",
       "    <tr>\n",
       "      <th>2</th>\n",
       "      <td>1</td>\n",
       "      <td>2.846227</td>\n",
       "    </tr>\n",
       "    <tr>\n",
       "      <th>3</th>\n",
       "      <td>1</td>\n",
       "      <td>5.648956</td>\n",
       "    </tr>\n",
       "    <tr>\n",
       "      <th>4</th>\n",
       "      <td>0</td>\n",
       "      <td>0.018101</td>\n",
       "    </tr>\n",
       "  </tbody>\n",
       "</table>\n",
       "</div>"
      ],
      "text/plain": [
       "   d         y\n",
       "0  1  1.812209\n",
       "1  1  3.614428\n",
       "2  1  2.846227\n",
       "3  1  5.648956\n",
       "4  0  0.018101"
      ]
     },
     "execution_count": 32,
     "metadata": {},
     "output_type": "execute_result"
    }
   ],
   "source": [
    "import pandas as pd\n",
    "import numpy as np\n",
    "\n",
    "np.random.seed()\n",
    "\n",
    "n = 100\n",
    "df = pd.DataFrame({\"d\": np.random.randint(0,2,n)})\n",
    "df['y'] = 1 + 2 * df['d'] + np.random.normal(0,1,n)\n",
    "\n",
    "df.head()"
   ]
  },
  {
   "cell_type": "code",
   "execution_count": 34,
   "metadata": {},
   "outputs": [
    {
     "name": "stdout",
     "output_type": "stream",
     "text": [
      "2.8988268919610283\n",
      "0.981774510289381\n"
     ]
    }
   ],
   "source": [
    "print(df[df['d'] == 1]['y'].mean())\n",
    "print(df[df['d'] == 0]['y'].mean())"
   ]
  },
  {
   "cell_type": "code",
   "execution_count": null,
   "metadata": {},
   "outputs": [],
   "source": []
  }
 ],
 "metadata": {
  "kernelspec": {
   "display_name": "Python 3.9.7 64-bit",
   "language": "python",
   "name": "python3"
  },
  "language_info": {
   "codemirror_mode": {
    "name": "ipython",
    "version": 3
   },
   "file_extension": ".py",
   "mimetype": "text/x-python",
   "name": "python",
   "nbconvert_exporter": "python",
   "pygments_lexer": "ipython3",
   "version": "3.9.7"
  },
  "orig_nbformat": 4,
  "vscode": {
   "interpreter": {
    "hash": "aee8b7b246df8f9039afb4144a1f6fd8d2ca17a180786b69acc140d282b71a49"
   }
  }
 },
 "nbformat": 4,
 "nbformat_minor": 2
}
