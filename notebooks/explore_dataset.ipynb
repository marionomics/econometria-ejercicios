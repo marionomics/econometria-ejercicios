{
 "cells": [
  {
   "cell_type": "code",
   "execution_count": 1,
   "metadata": {},
   "outputs": [],
   "source": [
    "import pandas as pd"
   ]
  },
  {
   "cell_type": "code",
   "execution_count": 2,
   "metadata": {},
   "outputs": [
    {
     "data": {
      "text/html": [
       "<div>\n",
       "<style scoped>\n",
       "    .dataframe tbody tr th:only-of-type {\n",
       "        vertical-align: middle;\n",
       "    }\n",
       "\n",
       "    .dataframe tbody tr th {\n",
       "        vertical-align: top;\n",
       "    }\n",
       "\n",
       "    .dataframe thead th {\n",
       "        text-align: right;\n",
       "    }\n",
       "</style>\n",
       "<table border=\"1\" class=\"dataframe\">\n",
       "  <thead>\n",
       "    <tr style=\"text-align: right;\">\n",
       "      <th></th>\n",
       "      <th>Have you completed any certification courses, or are you currently enrolled in any?</th>\n",
       "      <th>Gender</th>\n",
       "      <th>Department</th>\n",
       "      <th>Height(CM)</th>\n",
       "      <th>Weight(KG)</th>\n",
       "      <th>10th Mark</th>\n",
       "      <th>12th Mark</th>\n",
       "      <th>college mark</th>\n",
       "      <th>hobbies</th>\n",
       "      <th>daily studing time</th>\n",
       "      <th>prefer to study in</th>\n",
       "      <th>salary expectation</th>\n",
       "      <th>Do you like your degree?</th>\n",
       "      <th>possibility of choosing  their career based on their degree :</th>\n",
       "      <th>social medai &amp; video games spending Time</th>\n",
       "      <th>Travelling Time</th>\n",
       "      <th>Stress Level</th>\n",
       "      <th>Financial Status</th>\n",
       "      <th>Are you doing a part-time job right now?</th>\n",
       "    </tr>\n",
       "  </thead>\n",
       "  <tbody>\n",
       "    <tr>\n",
       "      <th>0</th>\n",
       "      <td>No</td>\n",
       "      <td>Male</td>\n",
       "      <td>BCA</td>\n",
       "      <td>100.0</td>\n",
       "      <td>58.0</td>\n",
       "      <td>79.0</td>\n",
       "      <td>65.0</td>\n",
       "      <td>80.0</td>\n",
       "      <td>Video Games</td>\n",
       "      <td>0 - 30 minute</td>\n",
       "      <td>Morning</td>\n",
       "      <td>40000</td>\n",
       "      <td>No</td>\n",
       "      <td>50%</td>\n",
       "      <td>1.30 - 2 hour</td>\n",
       "      <td>30 - 60 minutes</td>\n",
       "      <td>Bad</td>\n",
       "      <td>Bad</td>\n",
       "      <td>No</td>\n",
       "    </tr>\n",
       "    <tr>\n",
       "      <th>1</th>\n",
       "      <td>No</td>\n",
       "      <td>Female</td>\n",
       "      <td>BCA</td>\n",
       "      <td>90.0</td>\n",
       "      <td>40.0</td>\n",
       "      <td>70.0</td>\n",
       "      <td>80.0</td>\n",
       "      <td>70.0</td>\n",
       "      <td>Cinema</td>\n",
       "      <td>30 - 60 minute</td>\n",
       "      <td>Morning</td>\n",
       "      <td>15000</td>\n",
       "      <td>Yes</td>\n",
       "      <td>75%</td>\n",
       "      <td>1 - 1.30 hour</td>\n",
       "      <td>0 - 30 minutes</td>\n",
       "      <td>Bad</td>\n",
       "      <td>Bad</td>\n",
       "      <td>No</td>\n",
       "    </tr>\n",
       "    <tr>\n",
       "      <th>2</th>\n",
       "      <td>Yes</td>\n",
       "      <td>Male</td>\n",
       "      <td>BCA</td>\n",
       "      <td>159.0</td>\n",
       "      <td>78.0</td>\n",
       "      <td>69.5</td>\n",
       "      <td>61.0</td>\n",
       "      <td>55.0</td>\n",
       "      <td>Cinema</td>\n",
       "      <td>1 - 2 Hour</td>\n",
       "      <td>Anytime</td>\n",
       "      <td>13000</td>\n",
       "      <td>Yes</td>\n",
       "      <td>50%</td>\n",
       "      <td>More than 2 hour</td>\n",
       "      <td>30 - 60 minutes</td>\n",
       "      <td>Awful</td>\n",
       "      <td>Bad</td>\n",
       "      <td>No</td>\n",
       "    </tr>\n",
       "    <tr>\n",
       "      <th>3</th>\n",
       "      <td>Yes</td>\n",
       "      <td>Female</td>\n",
       "      <td>BCA</td>\n",
       "      <td>147.0</td>\n",
       "      <td>20.0</td>\n",
       "      <td>70.0</td>\n",
       "      <td>59.0</td>\n",
       "      <td>58.0</td>\n",
       "      <td>Reading books</td>\n",
       "      <td>1 - 2 Hour</td>\n",
       "      <td>Anytime</td>\n",
       "      <td>1500000</td>\n",
       "      <td>No</td>\n",
       "      <td>50%</td>\n",
       "      <td>1.30 - 2 hour</td>\n",
       "      <td>0 - 30 minutes</td>\n",
       "      <td>Bad</td>\n",
       "      <td>good</td>\n",
       "      <td>No</td>\n",
       "    </tr>\n",
       "    <tr>\n",
       "      <th>4</th>\n",
       "      <td>No</td>\n",
       "      <td>Male</td>\n",
       "      <td>BCA</td>\n",
       "      <td>170.0</td>\n",
       "      <td>54.0</td>\n",
       "      <td>40.0</td>\n",
       "      <td>65.0</td>\n",
       "      <td>30.0</td>\n",
       "      <td>Video Games</td>\n",
       "      <td>30 - 60 minute</td>\n",
       "      <td>Morning</td>\n",
       "      <td>50000</td>\n",
       "      <td>Yes</td>\n",
       "      <td>25%</td>\n",
       "      <td>1.30 - 2 hour</td>\n",
       "      <td>30 - 60 minutes</td>\n",
       "      <td>Good</td>\n",
       "      <td>good</td>\n",
       "      <td>No</td>\n",
       "    </tr>\n",
       "  </tbody>\n",
       "</table>\n",
       "</div>"
      ],
      "text/plain": [
       "  Have you completed any certification courses, or are you currently enrolled in any?  \\\n",
       "0                                                 No                                    \n",
       "1                                                 No                                    \n",
       "2                                                Yes                                    \n",
       "3                                                Yes                                    \n",
       "4                                                 No                                    \n",
       "\n",
       "   Gender Department  Height(CM)  Weight(KG)  10th Mark  12th Mark  \\\n",
       "0    Male        BCA       100.0        58.0       79.0       65.0   \n",
       "1  Female        BCA        90.0        40.0       70.0       80.0   \n",
       "2    Male        BCA       159.0        78.0       69.5       61.0   \n",
       "3  Female        BCA       147.0        20.0       70.0       59.0   \n",
       "4    Male        BCA       170.0        54.0       40.0       65.0   \n",
       "\n",
       "   college mark        hobbies daily studing time prefer to study in  \\\n",
       "0          80.0    Video Games      0 - 30 minute            Morning   \n",
       "1          70.0         Cinema     30 - 60 minute            Morning   \n",
       "2          55.0         Cinema         1 - 2 Hour            Anytime   \n",
       "3          58.0  Reading books         1 - 2 Hour            Anytime   \n",
       "4          30.0    Video Games     30 - 60 minute            Morning   \n",
       "\n",
       "   salary expectation Do you like your degree?  \\\n",
       "0               40000                       No   \n",
       "1               15000                      Yes   \n",
       "2               13000                      Yes   \n",
       "3             1500000                       No   \n",
       "4               50000                      Yes   \n",
       "\n",
       "  possibility of choosing  their career based on their degree :   \\\n",
       "0                                                50%               \n",
       "1                                                75%               \n",
       "2                                                50%               \n",
       "3                                                50%               \n",
       "4                                                25%               \n",
       "\n",
       "  social medai & video games spending Time Travelling Time  Stress Level   \\\n",
       "0                            1.30 - 2 hour  30 - 60 minutes           Bad   \n",
       "1                            1 - 1.30 hour   0 - 30 minutes           Bad   \n",
       "2                         More than 2 hour  30 - 60 minutes         Awful   \n",
       "3                            1.30 - 2 hour   0 - 30 minutes           Bad   \n",
       "4                            1.30 - 2 hour  30 - 60 minutes          Good   \n",
       "\n",
       "  Financial Status Are you doing a part-time job right now?  \n",
       "0              Bad                                       No  \n",
       "1              Bad                                       No  \n",
       "2              Bad                                       No  \n",
       "3             good                                       No  \n",
       "4             good                                       No  "
      ]
     },
     "execution_count": 2,
     "metadata": {},
     "output_type": "execute_result"
    }
   ],
   "source": [
    "path = \"https://raw.githubusercontent.com/marionomics/econometria/main/data/Student_Behaviour.csv\"\n",
    "local_path = \"../data/Student_Behaviour.csv\"\n",
    "\n",
    "df = pd.read_csv(path)\n",
    "df.head()"
   ]
  },
  {
   "cell_type": "code",
   "execution_count": 7,
   "metadata": {},
   "outputs": [
    {
     "data": {
      "text/plain": [
       "Male      0.66383\n",
       "Female    0.33617\n",
       "Name: gender, dtype: float64"
      ]
     },
     "execution_count": 7,
     "metadata": {},
     "output_type": "execute_result"
    }
   ],
   "source": [
    "df.columns = [\"courses\", \"gender\", \"dept\", \"height\", \"weight\", \"ten_m\", \"twelve_m\", \"collegeM\", \"hobbies\", \"st\", \"time\", \"exp\", \"lk_deg\", \"prob\", \"sm_vg\", \"trav_time\", \"stress\", \"fin\", \"ptj\"]\n",
    "df.gender.value_counts(normalize=True)"
   ]
  },
  {
   "cell_type": "code",
   "execution_count": 4,
   "metadata": {},
   "outputs": [
    {
     "name": "stdout",
     "output_type": "stream",
     "text": [
      "76.84212765957447\n",
      "13.050800305579424\n"
     ]
    }
   ],
   "source": [
    "# Promedio y desviación estándar de 10th mark\n",
    "print(df.ten_m.mean()) # Media\n",
    "print(df.ten_m.std()) # Desviacion Estándar"
   ]
  },
  {
   "cell_type": "code",
   "execution_count": 11,
   "metadata": {},
   "outputs": [
    {
     "name": "stdout",
     "output_type": "stream",
     "text": [
      "70.66055319148934\n",
      "15.727446316595374\n"
     ]
    }
   ],
   "source": [
    "print(df.collegeM.mean())\n",
    "print(df.collegeM.std())"
   ]
  },
  {
   "cell_type": "code",
   "execution_count": 21,
   "metadata": {},
   "outputs": [
    {
     "data": {
      "text/plain": [
       "gender  stress  \n",
       "Female  Awful       85.600000\n",
       "        Bad         76.139130\n",
       "        Good        80.995833\n",
       "        fabulous    57.333333\n",
       "Male    Awful       75.292857\n",
       "        Bad         75.933333\n",
       "        Good        75.930337\n",
       "        fabulous    73.750000\n",
       "Name: ten_m, dtype: float64"
      ]
     },
     "execution_count": 21,
     "metadata": {},
     "output_type": "execute_result"
    }
   ],
   "source": [
    "df.groupby([\"gender\", \"stress\"]).ten_m.mean()"
   ]
  },
  {
   "cell_type": "code",
   "execution_count": null,
   "metadata": {},
   "outputs": [],
   "source": []
  }
 ],
 "metadata": {
  "kernelspec": {
   "display_name": "Python 3.8.5 ('base')",
   "language": "python",
   "name": "python3"
  },
  "language_info": {
   "codemirror_mode": {
    "name": "ipython",
    "version": 3
   },
   "file_extension": ".py",
   "mimetype": "text/x-python",
   "name": "python",
   "nbconvert_exporter": "python",
   "pygments_lexer": "ipython3",
   "version": "3.8.5"
  },
  "orig_nbformat": 4,
  "vscode": {
   "interpreter": {
    "hash": "8f81b1a35a3bcb00987bde8d09f9263b6e52446a60f74d539393c43a25c83666"
   }
  }
 },
 "nbformat": 4,
 "nbformat_minor": 2
}
